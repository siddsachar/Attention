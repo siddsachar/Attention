{
 "cells": [
  {
   "cell_type": "code",
   "execution_count": 2,
   "id": "586a2129",
   "metadata": {},
   "outputs": [],
   "source": [
    "import torch"
   ]
  },
  {
   "cell_type": "markdown",
   "id": "7ed0f9c9",
   "metadata": {},
   "source": [
    "# Example: Calculating Attention Scores with PyTorch\n",
    "This example demonstrates how to compute attention scores using PyTorch tensors. The process involves the following steps:\n",
    "\n",
    "1. **Create Example Input Embeddings**\n",
    "   - A tensor named `example_input_embeddings` is defined with 6 vectors, each of dimension 3.\n",
    "   - All values are between 0 and 1, representing normalized embedding features.\n",
    "\n",
    "2. **Select a Query Vector**\n",
    "   - The second vector (index 1) from the embeddings is chosen as the query (`example_query`).\n",
    "\n",
    "3. **Compute Attention Scores**\n",
    "   - An empty tensor `example_attention_scores` is created to store the attention scores for each embedding.\n",
    "   - For each embedding vector, the dot product with the query vector is calculated and stored in the attention scores tensor.\n",
    "\n",
    "4. **Print Results**\n",
    "   - The shape of the input embeddings tensor is printed to confirm its dimensions.\n",
    "   - The computed attention scores for the query are printed, showing how similar each embedding is to the query vector.\n",
    "\n",
    "This approach is a simplified version of the attention mechanism commonly used in neural networks, such as Transformers, where attention scores determine the relevance of other tokens to a given query token."
   ]
  },
  {
   "cell_type": "code",
   "execution_count": 3,
   "id": "b0e7301e",
   "metadata": {},
   "outputs": [
    {
     "name": "stdout",
     "output_type": "stream",
     "text": [
      "torch.Size([6, 3])\n",
      "Example attention scores for 2nd query: tensor([0.8418, 0.7076, 0.5994, 0.6760, 0.5356, 0.6520])\n"
     ]
    }
   ],
   "source": [
    "example_input_embeddings = torch.tensor([\n",
    "    [0.23, 0.87, 0.45],\n",
    "    [0.12, 0.76, 0.34],\n",
    "    [0.98, 0.54, 0.21],\n",
    "    [0.67, 0.39, 0.88],\n",
    "    [0.53, 0.29, 0.74],\n",
    "    [0.41, 0.65, 0.32]\n",
    "])\n",
    "\n",
    "print(example_input_embeddings.shape)\n",
    "\n",
    "example_query = example_input_embeddings[1]\n",
    "example_attention_scores = torch.empty(example_input_embeddings.shape[0])\n",
    "for i, embedding in enumerate(example_input_embeddings):\n",
    "    example_attention_scores[i] = torch.dot(example_query, embedding)\n",
    "\n",
    "print(f\"Example attention scores for 2nd query: {example_attention_scores}\")\n",
    "\n",
    "\n",
    "\n"
   ]
  },
  {
   "cell_type": "markdown",
   "id": "f070c78a",
   "metadata": {},
   "source": [
    "# Softmax Normalization of Attention Scores\n",
    "After calculating the raw attention scores for the query vector, it is important to normalize these scores so they can be interpreted as probabilities. This is achieved using the softmax function:\n",
    "\n",
    "1. **Purpose of Softmax**\n",
    "   - The softmax function transforms the raw attention scores into a probability distribution.\n",
    "   - Each score is exponentiated and divided by the sum of all exponentiated scores, ensuring all values are between 0 and 1 and sum to 1.\n",
    "\n",
    "2. **Application in Attention Mechanisms**\n",
    "   - In neural network models like Transformers, softmax normalization is used to weigh the importance of each token (or embedding) relative to the query.\n",
    "   - Higher normalized scores indicate greater relevance to the query vector.\n",
    "\n",
    "3. **Code Explanation**\n",
    "   - `torch.softmax(example_attention_scores, dim=0)` computes the softmax across all attention scores.\n",
    "   - The result, `normalized_example_attention_scores`, contains the normalized weights for each embedding.\n",
    "   - These weights can be used to compute a weighted sum of the input embeddings, focusing on the most relevant ones.\n",
    "\n",
    "4. **Output**\n",
    "   - The normalized attention scores are printed, showing the probability-like weights for each embedding with respect to the query.\n",
    "\n",
    "This normalization step is essential for interpreting attention scores and for further processing in attention-based models."
   ]
  },
  {
   "cell_type": "code",
   "execution_count": 4,
   "id": "9d36754a",
   "metadata": {},
   "outputs": [
    {
     "name": "stdout",
     "output_type": "stream",
     "text": [
      "Normalized attention scores for 2nd query: tensor([0.1972, 0.1725, 0.1548, 0.1671, 0.1452, 0.1631])\n"
     ]
    }
   ],
   "source": [
    "normalized_example_attention_scores = torch.softmax(example_attention_scores, dim = 0)\n",
    "print(f\"Normalized attention scores for 2nd query: {normalized_example_attention_scores}\")"
   ]
  },
  {
   "cell_type": "markdown",
   "id": "3436a57c",
   "metadata": {},
   "source": [
    "# Computing the Context Vector Using Attention Weights\n",
    "After normalizing the attention scores, the next step is to compute the context vector. This vector represents a weighted sum of all input embeddings, where the weights are the normalized attention scores:\n",
    "\n",
    "1. **Purpose of the Context Vector**\n",
    "   - The context vector aggregates information from all input embeddings, emphasizing those most relevant to the query.\n",
    "   - In attention-based models, this vector is used to provide focused information for downstream tasks, such as prediction or decoding.\n",
    "\n",
    "2. **Calculation Steps**\n",
    "   - Initialize a zero vector with the same shape as the query vector.\n",
    "   - For each embedding, multiply it by its corresponding normalized attention score.\n",
    "   - Sum all weighted embeddings to obtain the final context vector.\n",
    "\n",
    "3. **Code Explanation**\n",
    "   - `example_context_vector = torch.zeros(example_query.shape)` initializes the context vector.\n",
    "   - The loop iterates over each embedding and its attention weight, accumulating the weighted sum.\n",
    "   - The result is printed, showing the context vector for the selected query.\n",
    "\n",
    "4. **Interpretation**\n",
    "   - The context vector reflects the most relevant features from the input embeddings, as determined by the attention mechanism.\n",
    "   - This process is fundamental in models like Transformers, where context vectors are used to capture relationships between tokens.\n",
    "\n",
    "This step completes the basic attention mechanism, demonstrating how queries, attention scores, and context vectors interact in neural network models."
   ]
  },
  {
   "cell_type": "code",
   "execution_count": 5,
   "id": "bf98a12b",
   "metadata": {},
   "outputs": [
    {
     "name": "stdout",
     "output_type": "stream",
     "text": [
      "Context vector for 2nd query: tensor([0.4736, 0.5996, 0.4866])\n"
     ]
    }
   ],
   "source": [
    "example_context_vector = torch.zeros(example_query.shape)\n",
    "for i, embedding in enumerate(example_input_embeddings):\n",
    "    example_context_vector += normalized_example_attention_scores[i] * embedding\n",
    "print(f\"Context vector for 2nd query: {example_context_vector}\")\n"
   ]
  },
  {
   "cell_type": "markdown",
   "id": "04e722fc",
   "metadata": {},
   "source": [
    "# Calculating Attention Scores for All Queries and Embeddings\n",
    "This cell extends the attention mechanism by computing attention scores for every possible query-embedding pair in the input tensor:\n",
    "\n",
    "1. **Purpose of Pairwise Attention Scores**\n",
    "   - Instead of using a single query, this approach calculates the attention score for each query vector against every embedding vector.\n",
    "   - The result is a matrix where each row corresponds to a query and each column to an embedding.\n",
    "\n",
    "2. **Calculation Steps**\n",
    "   - Initialize an empty matrix `all_attention_scores` with shape `[num_queries, num_embeddings]`.\n",
    "   - For each query (row), iterate over all embeddings (columns) and compute the dot product.\n",
    "   - Store the result in the corresponding position in the matrix.\n",
    "\n",
    "3. **Code Explanation**\n",
    "   - The outer loop iterates over each query vector in `example_input_embeddings`.\n",
    "   - The inner loop iterates over each embedding vector.\n",
    "   - `torch.dot(query, embedding)` computes the similarity between the query and embedding.\n",
    "   - The resulting matrix is printed, showing all pairwise attention scores.\n",
    "\n",
    "4. **Interpretation**\n",
    "   - The attention score matrix provides a comprehensive view of how each query relates to every embedding.\n",
    "   - In multi-head attention and Transformer models, similar matrices are used to determine the influence of all tokens on each other.\n",
    "\n",
    "This step demonstrates the generalization of the attention mechanism to all query-embedding pairs, which is fundamental in self-attention architectures."
   ]
  },
  {
   "cell_type": "code",
   "execution_count": 6,
   "id": "1fefc682",
   "metadata": {},
   "outputs": [
    {
     "name": "stdout",
     "output_type": "stream",
     "text": [
      "All attention scores using for loops:\n",
      " tensor([[1.0123, 0.8418, 0.7897, 0.8894, 0.7072, 0.8038],\n",
      "        [0.8418, 0.7076, 0.5994, 0.6760, 0.5356, 0.6520],\n",
      "        [0.7897, 0.5994, 1.2961, 1.0520, 0.8314, 0.8200],\n",
      "        [0.8894, 0.6760, 1.0520, 1.3754, 1.1194, 0.8098],\n",
      "        [0.7072, 0.5356, 0.8314, 1.1194, 0.9126, 0.6426],\n",
      "        [0.8038, 0.6520, 0.8200, 0.8098, 0.6426, 0.6930]])\n"
     ]
    }
   ],
   "source": [
    "all_attention_scores = torch.empty(example_input_embeddings.shape[0], example_input_embeddings.shape[0])\n",
    "for i, query in enumerate(example_input_embeddings):\n",
    "    for j, embedding in enumerate(example_input_embeddings):\n",
    "        all_attention_scores[i,j] = torch.dot(query, embedding)\n",
    "\n",
    "print(f\"All attention scores using for loops:\\n {all_attention_scores}\")"
   ]
  },
  {
   "cell_type": "markdown",
   "id": "cb2b08f6",
   "metadata": {},
   "source": [
    "# Matrix Multiplication for Attention Scores: Why and How\n",
    "This cell uses matrix multiplication to efficiently compute all pairwise attention scores between input embeddings. Here's a detailed breakdown:\n",
    "\n",
    "1. **Why Use Matrix Multiplication?**\n",
    "   - Matrix multiplication is much faster and more scalable than using nested loops, especially for large datasets.\n",
    "   - It leverages optimized linear algebra routines and hardware acceleration (e.g., GPUs), making it the standard approach in deep learning frameworks.\n",
    "\n",
    "2. **How Does It Work?**\n",
    "   - The operation `example_input_embeddings @ example_input_embeddings.T` multiplies the input matrix by its transpose.\n",
    "   - Each entry $(i, j)$ in the resulting matrix is the dot product between the $i$-th query and the $j$-th embedding.\n",
    "   - This produces a square matrix where rows represent queries and columns represent embeddings.\n",
    "\n",
    "3. **Code Explanation**\n",
    "   - `@` is the matrix multiplication operator in PyTorch (equivalent to `torch.matmul`).\n",
    "   - The result, `all_attention_scores`, contains all possible query-embedding dot products.\n",
    "   - The matrix is printed to show the computed attention scores.\n",
    "\n",
    "4. **Relation to Transformers**\n",
    "   - In Transformer models, self-attention is computed using similar matrix multiplication operations to efficiently process entire sequences in parallel.\n",
    "   - This enables the model to capture relationships between all tokens in the input.\n",
    "\n",
    "This cell demonstrates the practical and theoretical advantages of matrix multiplication for attention mechanisms in modern neural networks."
   ]
  },
  {
   "cell_type": "code",
   "execution_count": 7,
   "id": "8537378b",
   "metadata": {},
   "outputs": [
    {
     "name": "stdout",
     "output_type": "stream",
     "text": [
      "All attention scores using matrix multiplication:\n",
      " tensor([[1.0123, 0.8418, 0.7897, 0.8894, 0.7072, 0.8038],\n",
      "        [0.8418, 0.7076, 0.5994, 0.6760, 0.5356, 0.6520],\n",
      "        [0.7897, 0.5994, 1.2961, 1.0520, 0.8314, 0.8200],\n",
      "        [0.8894, 0.6760, 1.0520, 1.3754, 1.1194, 0.8098],\n",
      "        [0.7072, 0.5356, 0.8314, 1.1194, 0.9126, 0.6426],\n",
      "        [0.8038, 0.6520, 0.8200, 0.8098, 0.6426, 0.6930]])\n"
     ]
    }
   ],
   "source": [
    "all_attention_scores = example_input_embeddings @ example_input_embeddings.T\n",
    "print(f\"All attention scores using matrix multiplication:\\n {all_attention_scores}\")"
   ]
  },
  {
   "cell_type": "markdown",
   "id": "71dafd44",
   "metadata": {},
   "source": [
    "# Softmax Normalization of All Attention Scores\n",
    "This cell applies the softmax function to the entire attention score matrix, normalizing each row so that the scores for each query sum to 1:\n",
    "\n",
    "1. **Purpose of Row-wise Softmax**\n",
    "   - The softmax function is applied along the last dimension (columns) of the attention score matrix.\n",
    "   - For each query (row), the attention scores across all embeddings are converted into a probability distribution.\n",
    "   - This allows each query to \"attend\" to all embeddings with weights that sum to 1.\n",
    "\n",
    "2. **Calculation Steps**\n",
    "   - `torch.softmax(all_attention_scores, dim=-1)` computes the softmax for each row of the matrix.\n",
    "   - The result, `all_normalized_attention_scores`, is a matrix of the same shape, where each row contains normalized attention weights for the corresponding query.\n",
    "\n",
    "3. **Code Explanation**\n",
    "   - The softmax operation ensures that for each query, the attention weights are interpretable as probabilities.\n",
    "   - The normalized matrix is printed, showing how each query distributes its attention across all embeddings.\n",
    "\n",
    "4. **Interpretation**\n",
    "   - This step generalizes the normalization process to all queries, as is done in self-attention mechanisms in models like Transformers.\n",
    "   - The resulting matrix is fundamental for computing context vectors for every query, enabling parallel processing and richer representations.\n",
    "\n",
    "This operation is essential for multi-query attention, allowing each token or embedding to focus on the most relevant parts of the input sequence."
   ]
  },
  {
   "cell_type": "code",
   "execution_count": 8,
   "id": "67703b9d",
   "metadata": {},
   "outputs": [
    {
     "name": "stdout",
     "output_type": "stream",
     "text": [
      "All normalized attention scores:\n",
      " tensor([[0.1970, 0.1661, 0.1577, 0.1742, 0.1452, 0.1599],\n",
      "        [0.1972, 0.1725, 0.1548, 0.1671, 0.1452, 0.1631],\n",
      "        [0.1458, 0.1205, 0.2419, 0.1895, 0.1520, 0.1503],\n",
      "        [0.1472, 0.1189, 0.1732, 0.2394, 0.1853, 0.1360],\n",
      "        [0.1504, 0.1267, 0.1703, 0.2271, 0.1847, 0.1410],\n",
      "        [0.1777, 0.1527, 0.1806, 0.1788, 0.1512, 0.1591]])\n"
     ]
    }
   ],
   "source": [
    "all_normalized_attention_scores = torch.softmax(all_attention_scores, dim = -1)\n",
    "print(f\"All normalized attention scores:\\n {all_normalized_attention_scores}\")"
   ]
  },
  {
   "cell_type": "markdown",
   "id": "8fdaaaf9",
   "metadata": {},
   "source": [
    "# Computing All Context Vectors Using Matrix Multiplication\n",
    "This cell demonstrates how to efficiently compute context vectors for all queries in parallel using matrix multiplication:\n",
    "\n",
    "1. **Purpose of Context Vectors for All Queries**\n",
    "   - In self-attention mechanisms, each query (token) receives a context vector that summarizes relevant information from all embeddings, weighted by attention scores.\n",
    "   - Calculating all context vectors at once enables efficient processing of entire sequences.\n",
    "\n",
    "2. **Calculation Steps**\n",
    "   - The normalized attention score matrix (`all_normalized_attention_scores`) is multiplied by the input embeddings matrix (`example_input_embeddings`).\n",
    "   - This operation computes a weighted sum of embeddings for each query, resulting in a matrix where each row is the context vector for a query.\n",
    "\n",
    "3. **Code Explanation**\n",
    "   - `all_example_context_vectors = all_normalized_attention_scores @ example_input_embeddings` performs the matrix multiplication.\n",
    "   - Each row in the result corresponds to the context vector for a specific query.\n",
    "   - The context vectors are printed to show the output for all queries.\n",
    "\n",
    "4. **Interpretation**\n",
    "   - This approach is highly efficient and is used in Transformer models to compute context vectors for all tokens in parallel.\n",
    "   - The resulting context vectors capture the relationships and dependencies between all tokens in the input sequence.\n",
    "\n",
    "This cell completes the demonstration of self-attention, showing how attention weights and matrix multiplication are used to aggregate information for every query in a sequence."
   ]
  },
  {
   "cell_type": "code",
   "execution_count": 9,
   "id": "a969fbec",
   "metadata": {},
   "outputs": [
    {
     "name": "stdout",
     "output_type": "stream",
     "text": [
      "All context vectors using matrix multiplication:\n",
      " tensor([[0.4790, 0.5967, 0.4901],\n",
      "        [0.4736, 0.5996, 0.4866],\n",
      "        [0.5542, 0.5647, 0.4847],\n",
      "        [0.5322, 0.5475, 0.5343],\n",
      "        [0.5244, 0.5528, 0.5281],\n",
      "        [0.5013, 0.5851, 0.4899]])\n"
     ]
    }
   ],
   "source": [
    "all_example_context_vectors = all_normalized_attention_scores @ example_input_embeddings\n",
    "print(f\"All context vectors using matrix multiplication:\\n {all_example_context_vectors}\")"
   ]
  },
  {
   "cell_type": "markdown",
   "id": "b04dd00d",
   "metadata": {},
   "source": [
    "# Linear Projections for Query, Key, and Value Vectors\n",
    "This cell demonstrates how to create query, key, and value vectors from an input embedding using learnable linear projections, a core concept in the Transformer architecture:\n",
    "\n",
    "1. **Purpose of Linear Projections**\n",
    "   - In attention mechanisms, each input embedding is transformed into three distinct vectors: query, key, and value.\n",
    "   - These vectors are used to compute attention scores and aggregate information from other tokens.\n",
    "\n",
    "2. **Calculation Steps**\n",
    "   - The input embedding is selected (here, the second embedding vector).\n",
    "   - The input and output dimensions are defined for the projections.\n",
    "   - Random weight matrices for query, key, and value are initialized as learnable parameters.\n",
    "   - The input embedding is multiplied by each weight matrix to produce the query, key, and value vectors.\n",
    "\n",
    "3. **Code Explanation**\n",
    "   - `weight_query`, `weight_key`, and `weight_value` are randomly initialized matrices with shape `[input_dim, output_dim]`.\n",
    "   - The input embedding is projected using matrix multiplication:\n",
    "     - `example_query = example_input @ weight_query`\n",
    "     - `example_key = example_input @ weight_key`\n",
    "     - `example_value = example_input @ weight_value`\n",
    "   - The resulting vectors are printed for inspection.\n",
    "\n",
    "4. **Interpretation**\n",
    "   - These linear projections allow the model to learn how to best represent each token for the attention mechanism.\n",
    "   - The query and key vectors are used to compute attention scores, while the value vector is used to aggregate information.\n",
    "   - This process is repeated for every token in the input sequence in actual Transformer models.\n",
    "\n",
    "This cell illustrates the foundational step of generating query, key, and value vectors, enabling flexible and powerful attention computations in deep learning models."
   ]
  },
  {
   "cell_type": "code",
   "execution_count": 10,
   "id": "956c1889",
   "metadata": {},
   "outputs": [
    {
     "name": "stdout",
     "output_type": "stream",
     "text": [
      "Example input: tensor([0.1200, 0.7600, 0.3400])\n",
      "Input dimension: 3\n",
      "Output dimension: 2\n",
      "Weight query: Parameter containing:\n",
      "tensor([[0.7902, 0.9813],\n",
      "        [0.5914, 0.3650],\n",
      "        [0.7470, 0.6896]], requires_grad=True)\n",
      "Weight key: Parameter containing:\n",
      "tensor([[0.8815, 0.7708],\n",
      "        [0.7810, 0.2139],\n",
      "        [0.1007, 0.5230]], requires_grad=True)\n",
      "Weight value: Parameter containing:\n",
      "tensor([[0.3128, 0.8854],\n",
      "        [0.6202, 0.9351],\n",
      "        [0.4072, 0.3055]], requires_grad=True)\n",
      "Example query: tensor([0.7983, 0.6296], grad_fn=<SqueezeBackward4>)\n",
      "Example key: tensor([0.7335, 0.4328], grad_fn=<SqueezeBackward4>)\n",
      "Example value: tensor([0.6473, 0.9208], grad_fn=<SqueezeBackward4>)\n"
     ]
    }
   ],
   "source": [
    "example_input = example_input_embeddings[1]\n",
    "print(f\"Example input: {example_input}\")\n",
    "\n",
    "input_dim = example_input_embeddings.shape[1]\n",
    "output_dim = 2\n",
    "print(f\"Input dimension: {input_dim}\")\n",
    "print(f\"Output dimension: {output_dim}\")\n",
    "\n",
    "torch.manual_seed(246)\n",
    "weight_query = torch.nn.Parameter(torch.rand(input_dim, output_dim), requires_grad = True)\n",
    "weight_key = torch.nn.Parameter(torch.rand(input_dim, output_dim), requires_grad = True)\n",
    "weight_value = torch.nn.Parameter(torch.rand(input_dim, output_dim), requires_grad = True)\n",
    "\n",
    "print(f\"Weight query: {weight_query}\")\n",
    "print(f\"Weight key: {weight_key}\")\n",
    "print(f\"Weight value: {weight_value}\")\n",
    "\n",
    "example_query = example_input @ weight_query\n",
    "example_key = example_input @ weight_key\n",
    "example_value = example_input @ weight_value\n",
    "\n",
    "print(f\"Example query: {example_query}\")\n",
    "print(f\"Example key: {example_key}\")\n",
    "print(f\"Example value: {example_value}\")\n"
   ]
  },
  {
   "cell_type": "markdown",
   "id": "fca72e62",
   "metadata": {},
   "source": [
    "# Generating Keys and Values for All Embeddings & Computing Attention Scores\n",
    "This cell shows how to project all input embeddings into key and value spaces, and how to compute attention scores using the query and keys:\n",
    "\n",
    "1. **Purpose of Key and Value Projections**\n",
    "   - Each input embedding is transformed into a key and a value vector using learned weight matrices.\n",
    "   - Keys are used to measure similarity with queries, while values are used to aggregate information.\n",
    "\n",
    "2. **Calculation Steps**\n",
    "   - All input embeddings are projected into key and value spaces using matrix multiplication:\n",
    "     - `keys = example_input_embeddings @ weight_key`\n",
    "     - `values = example_input_embeddings @ weight_value`\n",
    "   - The shapes and contents of the keys and values are printed for inspection.\n",
    "\n",
    "3. **Computing Attention Scores**\n",
    "   - The attention score between the query and the 2nd key is computed using the dot product:\n",
    "     - `example_attention_score = example_query.dot(example_key)`\n",
    "   - All attention scores for the query against all keys are computed using matrix multiplication:\n",
    "     - `all_attention_scores_example_query = example_query @ keys.T`\n",
    "   - These scores indicate how much focus the query should place on each value.\n",
    "\n",
    "4. **Interpretation**\n",
    "   - This process is central to the attention mechanism: queries are compared to keys to produce attention scores, which are then used to weight the values.\n",
    "   - In Transformer models, this enables each token to attend to all others in the sequence, capturing complex dependencies.\n",
    "\n",
    "This cell demonstrates the mechanics of projecting embeddings and computing attention scores, forming the basis for weighted aggregation in attention-based neural networks."
   ]
  },
  {
   "cell_type": "code",
   "execution_count": 11,
   "id": "e819fb11",
   "metadata": {},
   "outputs": [
    {
     "name": "stdout",
     "output_type": "stream",
     "text": [
      "Shape of keys: torch.Size([6, 2])\n",
      "Keys: tensor([[0.9275, 0.5987],\n",
      "        [0.7335, 0.4328],\n",
      "        [1.3067, 0.9807],\n",
      "        [0.9838, 1.0601],\n",
      "        [0.7682, 0.8576],\n",
      "        [0.9013, 0.6224]], grad_fn=<MmBackward0>)\n",
      "Shape of values: torch.Size([6, 2])\n",
      "Values: tensor([[0.7948, 1.1547],\n",
      "        [0.6473, 0.9208],\n",
      "        [0.7269, 1.4368],\n",
      "        [0.8098, 1.2268],\n",
      "        [0.6469, 0.9665],\n",
      "        [0.6617, 1.0686]], grad_fn=<MmBackward0>)\n",
      "Attention score for 2nd query and 2nd key: 0.8580945730209351\n",
      "All attention scores for 2nd query: tensor([1.1173, 0.8581, 1.6606, 1.4528, 1.1532, 1.1113],\n",
      "       grad_fn=<SqueezeBackward4>)\n"
     ]
    }
   ],
   "source": [
    "keys = example_input_embeddings @ weight_key\n",
    "values = example_input_embeddings @ weight_value\n",
    "print(f\"Shape of keys: {keys.shape}\")\n",
    "print(f\"Keys: {keys}\")\n",
    "print(f\"Shape of values: {values.shape}\")\n",
    "print(f\"Values: {values}\")\n",
    "\n",
    "example_key = keys[1]\n",
    "example_attention_score = example_query.dot(example_key)\n",
    "print(f\"Attention score for 2nd query and 2nd key: {example_attention_score}\")\n",
    "\n",
    "all_attention_scores_example_query = example_query @ keys.T\n",
    "print(f\"All attention scores for 2nd query: {all_attention_scores_example_query}\")\n",
    "\n"
   ]
  },
  {
   "cell_type": "markdown",
   "id": "fe2df696",
   "metadata": {},
   "source": [
    "# Scaled Dot-Product Attention Weights for a Query\n",
    "This cell demonstrates how to compute attention weights for a query using the scaled dot-product attention mechanism, a key component of Transformer models:\n",
    "\n",
    "1. **Purpose of Scaling**\n",
    "   - The dot products between the query and keys can become large for high-dimensional vectors, leading to small gradients after softmax.\n",
    "   - To address this, the dot products are scaled by the square root of the key dimension, stabilizing training and improving performance.\n",
    "\n",
    "2. **Calculation Steps**\n",
    "   - The dimension of the key vectors is determined: `keys_dim = keys.shape[-1]`.\n",
    "   - The scaling factor is computed as the square root of the key dimension: `scaling_factor = keys_dim ** 0.5`.\n",
    "   - The attention scores for the query are divided by the scaling factor before applying softmax:\n",
    "     - `all_attention_weights_example_query = torch.softmax(all_attention_scores_example_query / scaling_factor, dim = -1)`\n",
    "   - The resulting attention weights are printed.\n",
    "\n",
    "3. **Code Explanation**\n",
    "   - The scaled dot-product is a standard technique in attention mechanisms to prevent extremely sharp or flat softmax outputs.\n",
    "   - The softmax function converts the scaled scores into a probability distribution over all keys.\n",
    "\n",
    "4. **Interpretation**\n",
    "   - The attention weights indicate how much focus the query should place on each value in the sequence.\n",
    "   - This scaling step is essential for effective learning in deep models and is used in every attention layer of the Transformer architecture.\n",
    "\n",
    "This cell illustrates the mathematical refinement of attention mechanisms, ensuring stable and interpretable attention weights for each query."
   ]
  },
  {
   "cell_type": "code",
   "execution_count": 12,
   "id": "67e49db7",
   "metadata": {},
   "outputs": [
    {
     "name": "stdout",
     "output_type": "stream",
     "text": [
      "All attention weights for 2nd query: tensor([0.1517, 0.1263, 0.2228, 0.1924, 0.1556, 0.1511],\n",
      "       grad_fn=<SoftmaxBackward0>)\n"
     ]
    }
   ],
   "source": [
    "keys_dim = keys.shape[-1]\n",
    "scaling_factor = keys_dim ** 0.5\n",
    "all_attention_weights_example_query = torch.softmax(all_attention_scores_example_query / scaling_factor, dim = -1)\n",
    "print(f\"All attention weights for 2nd query: {all_attention_weights_example_query}\")"
   ]
  },
  {
   "cell_type": "markdown",
   "id": "b6ec7841",
   "metadata": {},
   "source": [
    "# Computing the Context Vector for a Query Using Attention Weights\n",
    "This cell demonstrates how to use attention weights to compute the context vector for a query, which is the final output of the attention mechanism for that query:\n",
    "\n",
    "1. **Purpose of the Context Vector**\n",
    "   - The context vector summarizes information from all value vectors, weighted by the attention scores for the query.\n",
    "   - It allows the model to focus on the most relevant parts of the input sequence for each query.\n",
    "\n",
    "2. **Calculation Steps**\n",
    "   - The attention weights for the query are multiplied by the value vectors using matrix multiplication:\n",
    "     - `context_vector_example_query = all_attention_weights_example_query @ values`\n",
    "   - The resulting context vector is printed.\n",
    "\n",
    "3. **Code Explanation**\n",
    "   - The attention weights (a 1D tensor) are used to compute a weighted sum of the value vectors (a 2D tensor).\n",
    "   - The output is a single context vector for the query, with the same dimension as the value vectors.\n",
    "\n",
    "4. **Interpretation**\n",
    "   - The context vector contains the most relevant information for the query, as determined by the attention mechanism.\n",
    "   - In Transformer models, context vectors are used as inputs to subsequent layers, enabling the model to capture complex relationships and dependencies.\n",
    "\n",
    "This cell completes the demonstration of scaled dot-product attention for a single query, showing how attention weights are used to aggregate information from the sequence."
   ]
  },
  {
   "cell_type": "code",
   "execution_count": 13,
   "id": "b068b826",
   "metadata": {},
   "outputs": [
    {
     "name": "stdout",
     "output_type": "stream",
     "text": [
      "Context vector for 2nd query: tensor([0.7208, 1.1596], grad_fn=<SqueezeBackward4>)\n"
     ]
    }
   ],
   "source": [
    "context_vector_example_query = all_attention_weights_example_query @ values\n",
    "print(f\"Context vector for 2nd query: {context_vector_example_query}\")"
   ]
  },
  {
   "cell_type": "markdown",
   "id": "76c92fd3",
   "metadata": {},
   "source": [
    "# Implementing Self-Attention as a PyTorch Module\n",
    "This cell defines a reusable PyTorch module for self-attention, encapsulating the entire attention mechanism in a single class:\n",
    "\n",
    "1. **Purpose of the SelfAttention Module**\n",
    "   - The module provides a flexible and reusable implementation of self-attention, suitable for integration into larger neural network architectures.\n",
    "   - It abstracts the steps of projecting queries, keys, and values, computing attention scores, normalizing them, and aggregating context vectors.\n",
    "\n",
    "2. **Class Structure**\n",
    "   - The class inherits from `nn.Module`, making it compatible with PyTorch's model and training ecosystem.\n",
    "   - The constructor (`__init__`) initializes learnable parameters for query, key, and value projections.\n",
    "   - The `forward` method implements the self-attention computation.\n",
    "\n",
    "3. **Forward Pass Steps**\n",
    "   - Input tensor `x` is projected into queries, keys, and values using matrix multiplication with the respective weights.\n",
    "   - Attention scores are computed as the dot product between queries and keys.\n",
    "   - Scores are scaled by the square root of the key dimension to stabilize gradients.\n",
    "   - Softmax is applied to obtain attention weights, which are then used to compute the context vectors as a weighted sum of values.\n",
    "   - The context vectors are returned as output.\n",
    "\n",
    "4. **Interpretation and Usage**\n",
    "   - This module can be used as a building block in Transformer models and other architectures requiring self-attention.\n",
    "   - It demonstrates how the attention mechanism can be implemented efficiently and flexibly in PyTorch.\n",
    "\n",
    "This cell completes the transition from manual attention calculations to a modular, trainable self-attention layer, ready for use in deep learning pipelines."
   ]
  },
  {
   "cell_type": "code",
   "execution_count": 14,
   "id": "490f83a4",
   "metadata": {},
   "outputs": [],
   "source": [
    "import torch.nn as nn\n",
    "class SelfAttention(nn.Module):\n",
    "    def __init__(self, input_dim, output_dim):\n",
    "        super().__init__()\n",
    "        self.weight_query = nn.Parameter(torch.rand(input_dim, output_dim))\n",
    "        self.weight_key = nn.Parameter(torch.rand(input_dim, output_dim))\n",
    "        self.weight_value = nn.Parameter(torch.rand(input_dim, output_dim))\n",
    "    \n",
    "    def forward(self, x):\n",
    "        queries = x @ self.weight_query\n",
    "        keys = x @ self.weight_key\n",
    "        values = x @ self.weight_value\n",
    "        attention_scores = queries @ keys.T\n",
    "        scaling_factor = keys.shape[-1] ** 0.5\n",
    "        attention_weights = torch.softmax(attention_scores / scaling_factor, dim = -1)\n",
    "        context_vector = attention_weights @ values\n",
    "        return context_vector"
   ]
  },
  {
   "cell_type": "markdown",
   "id": "2e99d065",
   "metadata": {},
   "source": [
    "# Using the SelfAttention Module to Compute Context Vectors\n",
    "This cell demonstrates how to instantiate and use the custom `SelfAttention` PyTorch module to compute context vectors for a batch of input embeddings:\n",
    "\n",
    "1. **Purpose of the Example**\n",
    "   - Shows how to apply the self-attention mechanism to a set of input embeddings using a modular, trainable layer.\n",
    "   - Illustrates the integration of the `SelfAttention` class into a typical PyTorch workflow.\n",
    "\n",
    "2. **Calculation Steps**\n",
    "   - The random seed is set for reproducibility of the weight initialization.\n",
    "   - An instance of `SelfAttention` is created with specified input and output dimensions.\n",
    "   - The module is called with the input embeddings, producing context vectors for each input.\n",
    "   - The resulting context vectors are printed for inspection.\n",
    "\n",
    "3. **Code Explanation**\n",
    "   - `self_attention = SelfAttention(input_dim, output_dim)` creates the attention layer.\n",
    "   - `context_vectors = self_attention(example_input_embeddings)` applies the layer to the input data.\n",
    "   - The output, `context_vectors`, contains the aggregated information for each input embedding, as determined by the attention mechanism.\n",
    "\n",
    "4. **Interpretation**\n",
    "   - This example demonstrates the practical use of a self-attention layer, as found in Transformer models and other deep learning architectures.\n",
    "   - The context vectors can be used for further processing, such as classification, sequence modeling, or as input to additional network layers.\n",
    "\n",
    "This cell completes the end-to-end demonstration of self-attention, from manual calculations to modular implementation and application in PyTorch."
   ]
  },
  {
   "cell_type": "code",
   "execution_count": 15,
   "id": "97970a89",
   "metadata": {},
   "outputs": [
    {
     "name": "stdout",
     "output_type": "stream",
     "text": [
      "Context vectors from SelfAttention module:\n",
      " tensor([[0.7227, 1.1697],\n",
      "        [0.7208, 1.1596],\n",
      "        [0.7256, 1.1836],\n",
      "        [0.7266, 1.1898],\n",
      "        [0.7245, 1.1777],\n",
      "        [0.7225, 1.1676]], grad_fn=<MmBackward0>)\n"
     ]
    }
   ],
   "source": [
    "torch.manual_seed(246)\n",
    "self_attention = SelfAttention(input_dim, output_dim)\n",
    "context_vectors = self_attention(example_input_embeddings)\n",
    "print(f\"Context vectors from SelfAttention module:\\n {context_vectors}\")"
   ]
  },
  {
   "cell_type": "markdown",
   "id": "b45c8d0e",
   "metadata": {},
   "source": [
    "# Self-Attention Module with Linear Layers and Optional Bias\n",
    "This cell defines an enhanced version of the self-attention module using PyTorch's `nn.Linear` layers for query, key, and value projections, and introduces an option to include bias terms:\n",
    "\n",
    "1. **Purpose of the Enhanced Module**\n",
    "   - Uses `nn.Linear` layers for projections, which are standard in deep learning and support bias terms for added flexibility.\n",
    "   - The `qkv_bias` parameter allows toggling bias in the query, key, and value projections.\n",
    "\n",
    "2. **Class Structure**\n",
    "   - Inherits from `nn.Module` for compatibility with PyTorch's model ecosystem.\n",
    "   - The constructor initializes three linear layers for query, key, and value projections, with optional bias.\n",
    "   - The `forward` method implements the self-attention computation.\n",
    "\n",
    "3. **Forward Pass Steps**\n",
    "   - Input tensor `x` is projected into queries, keys, and values using the respective linear layers.\n",
    "   - Attention scores are computed as the dot product between queries and keys.\n",
    "   - Scores are scaled by the square root of the key dimension to stabilize gradients.\n",
    "   - Softmax is applied to obtain attention weights, which are then used to compute the context vectors as a weighted sum of values.\n",
    "   - The context vectors are returned as output.\n",
    "\n",
    "4. **Interpretation and Usage**\n",
    "   - This module is more flexible and closer to real-world Transformer implementations, which often use linear layers with bias.\n",
    "   - The bias terms can help the model learn more expressive representations, especially in complex tasks.\n",
    "   - The module can be used as a drop-in replacement for the previous self-attention implementation in larger models.\n",
    "\n",
    "This cell demonstrates a practical and extensible approach to implementing self-attention, making it suitable for advanced deep learning applications."
   ]
  },
  {
   "cell_type": "code",
   "execution_count": 16,
   "id": "de879aff",
   "metadata": {},
   "outputs": [],
   "source": [
    "class SelfAttentionv2(nn.Module):\n",
    "    def __init__(self, input_dim, output_dim, qkv_bias = False):\n",
    "        super().__init__()\n",
    "        self.weight_query = nn.Linear(input_dim, output_dim, bias = qkv_bias)\n",
    "        self.weight_key = nn.Linear(input_dim, output_dim, bias = qkv_bias)\n",
    "        self.weight_value = nn.Linear(input_dim, output_dim, bias = qkv_bias)\n",
    "    \n",
    "    def forward(self, x):\n",
    "        queries = self.weight_query(x)\n",
    "        keys = self.weight_key(x)\n",
    "        values = self.weight_value(x)\n",
    "        attention_scores = queries @ keys.T\n",
    "        scaling_factor = keys.shape[-1] ** 0.5\n",
    "        attention_weights = torch.softmax(attention_scores / scaling_factor, dim = -1)\n",
    "        context_vectors = attention_weights @ values\n",
    "        return context_vectors\n"
   ]
  },
  {
   "cell_type": "markdown",
   "id": "5832d7e9",
   "metadata": {},
   "source": [
    "# Applying the Enhanced Self-Attention Module (SelfAttentionv2)\n",
    "This cell demonstrates how to use the improved `SelfAttentionv2` PyTorch module to compute context vectors for a batch of input embeddings. The enhancements include the use of `nn.Linear` layers for query, key, and value projections, and the option to include bias terms for greater flexibility.\n",
    "\n",
    "1. **Purpose of the Example**\n",
    "   - Showcases the application of the enhanced self-attention module to a set of input embeddings.\n",
    "   - Illustrates how the module can be instantiated and used in a typical PyTorch workflow.\n",
    "\n",
    "2. **Calculation Steps**\n",
    "   - The random seed is set for reproducibility of the linear layer initialization.\n",
    "   - An instance of `SelfAttentionv2` is created with specified input and output dimensions.\n",
    "   - The module is called with the input embeddings, producing context vectors for each input.\n",
    "   - The resulting context vectors are printed for inspection.\n",
    "\n",
    "3. **Code Explanation**\n",
    "   - `self_attention_v2 = SelfAttentionv2(input_dim, output_dim)` creates the enhanced attention layer.\n",
    "   - `context_vectors_v2 = self_attention_v2(example_input_embeddings)` applies the layer to the input data.\n",
    "   - The output, `context_vectors_v2`, contains the aggregated information for each input embedding, as determined by the attention mechanism.\n",
    "\n",
    "4. **Interpretation**\n",
    "   - This example demonstrates the practical use of a more flexible self-attention layer, as found in advanced Transformer models.\n",
    "   - The context vectors can be used for further processing, such as classification, sequence modeling, or as input to additional network layers.\n",
    "\n",
    "5. **Advantages of the Enhanced Module**\n",
    "   - Using `nn.Linear` layers allows for bias terms, which can improve model expressiveness.\n",
    "   - The modular design makes it easy to integrate into larger architectures and experiment with different configurations.\n",
    "\n",
    "This cell completes the demonstration of modular self-attention, showing how enhancements in layer design can lead to more powerful and adaptable deep learning models."
   ]
  },
  {
   "cell_type": "code",
   "execution_count": 17,
   "id": "0d417ce6",
   "metadata": {},
   "outputs": [
    {
     "name": "stdout",
     "output_type": "stream",
     "text": [
      "Context vectors from SelfAttentionv2 module:\n",
      " tensor([[-0.5480, -0.1288],\n",
      "        [-0.5475, -0.1291],\n",
      "        [-0.5503, -0.1260],\n",
      "        [-0.5530, -0.1225],\n",
      "        [-0.5523, -0.1232],\n",
      "        [-0.5487, -0.1277]], grad_fn=<MmBackward0>)\n"
     ]
    }
   ],
   "source": [
    "torch.manual_seed(123)\n",
    "self_attention_v2 = SelfAttentionv2(input_dim, output_dim)\n",
    "context_vectors_v2 = self_attention_v2(example_input_embeddings)\n",
    "print(f\"Context vectors from SelfAttentionv2 module:\\n {context_vectors_v2}\")"
   ]
  },
  {
   "cell_type": "markdown",
   "id": "6675c210",
   "metadata": {},
   "source": [
    "# Transferring Weights Between Self-Attention Modules and Comparing Outputs\n",
    "This cell demonstrates how to transfer the learned weights from the enhanced `SelfAttentionv2` module (which uses `nn.Linear` layers) to the original `SelfAttention` module (which uses raw `nn.Parameter` matrices), and then compares the outputs of both modules when applied to the same input embeddings.\n",
    "\n",
    "1. **Purpose of Weight Transfer**\n",
    "   - Enables direct comparison between two different implementations of self-attention: one using `nn.Linear` layers and the other using raw parameter matrices.\n",
    "   - Shows how to manually assign weights from one module to another, ensuring both modules use identical parameters for fair output comparison.\n",
    "\n",
    "2. **Calculation Steps**\n",
    "   - The weights for query, key, and value projections are extracted from the `SelfAttentionv2` module and transposed to match the shape expected by the `SelfAttention` module.\n",
    "   - These weights are assigned to the corresponding parameters in the `SelfAttention` module.\n",
    "   - Both modules are then applied to the same input embeddings, and their context vector outputs are printed.\n",
    "\n",
    "3. **Code Explanation**\n",
    "   - `self_attention.weight_key = nn.Parameter(self_attention_v2.weight_key.weight.T)` assigns the transposed key weights.\n",
    "   - Similar assignments are made for query and value weights.\n",
    "   - The context vectors are computed using the original `SelfAttention` module with the transferred weights.\n",
    "   - The outputs from both modules can be compared to verify that, with identical weights, both implementations produce the same results (assuming no bias is used in `SelfAttentionv2`).\n",
    "\n",
    "4. **Interpretation**\n",
    "   - This process is useful for validating custom implementations against standard PyTorch layers.\n",
    "   - It demonstrates the flexibility of PyTorch modules and how weights can be shared or transferred between different architectures.\n",
    "   - Comparing outputs helps ensure correctness and consistency across different module designs.\n",
    "\n",
    "5. **Practical Implications**\n",
    "   - Weight sharing and transfer are common in model experimentation, fine-tuning, and architecture comparisons.\n",
    "   - Understanding how to manipulate and assign weights is valuable for advanced model development and research.\n",
    "\n",
    "This cell completes the demonstration by bridging two self-attention implementations, highlighting best practices for module comparison and weight management in PyTorch."
   ]
  },
  {
   "cell_type": "code",
   "execution_count": 18,
   "id": "fa440236",
   "metadata": {},
   "outputs": [
    {
     "name": "stdout",
     "output_type": "stream",
     "text": [
      "Context vectors from SelfAttention module:\n",
      " tensor([[-0.5480, -0.1288],\n",
      "        [-0.5475, -0.1291],\n",
      "        [-0.5503, -0.1260],\n",
      "        [-0.5530, -0.1225],\n",
      "        [-0.5523, -0.1232],\n",
      "        [-0.5487, -0.1277]], grad_fn=<MmBackward0>)\n"
     ]
    }
   ],
   "source": [
    "self_attention.weight_key = nn.Parameter(self_attention_v2.weight_key.weight.T)\n",
    "self_attention.weight_query = nn.Parameter(self_attention_v2.weight_query.weight.T)\n",
    "self_attention.weight_value = nn.Parameter(self_attention_v2.weight_value.weight.T)\n",
    "\n",
    "context_vectors = self_attention(example_input_embeddings)\n",
    "print(f\"Context vectors from SelfAttention module:\\n {context_vectors}\")"
   ]
  },
  {
   "cell_type": "markdown",
   "id": "91c303b5",
   "metadata": {},
   "source": [
    "# Causal Masking in Self-Attention: Implementation and Effects\n",
    "\n",
    "This cell demonstrates how to apply causal masking to the attention weights in a self-attention mechanism, a technique commonly used in autoregressive models such as GPT and Transformer decoders. Causal masking ensures that each position in a sequence can only attend to itself and previous positions, preventing information \"leakage\" from future tokens.\n",
    "\n",
    "## Steps and Explanations\n",
    "\n",
    "1. **Compute Queries and Keys**\n",
    "    - The input embeddings are projected into query and key spaces using the trained linear layers from the `SelfAttentionv2` module.\n",
    "    - These projections are used to calculate attention scores, which measure the similarity between each query and key.\n",
    "\n",
    "2. **Calculate Attention Weights**\n",
    "    - Attention scores are scaled by the square root of the key dimension to stabilize gradients.\n",
    "    - The softmax function is applied to the scaled scores, producing attention weights that sum to 1 for each query.\n",
    "\n",
    "3. **Create the Causal Mask**\n",
    "    - A lower-triangular matrix (`causal_mask`) is generated using `torch.tril`, with ones on and below the diagonal and zeros above.\n",
    "    - This mask ensures that each position can only attend to itself and previous positions in the sequence.\n",
    "\n",
    "4. **Apply the Mask**\n",
    "    - The attention weights are element-wise multiplied by the causal mask, zeroing out any weights that correspond to future positions.\n",
    "\n",
    "5. **Normalize Masked Attention Weights**\n",
    "    - After masking, the attention weights for each query may no longer sum to 1.\n",
    "    - The masked weights are renormalized by dividing each row by its sum, ensuring they form a valid probability distribution.\n",
    "\n",
    "## Practical Importance\n",
    "\n",
    "- **Autoregressive Generation:** Causal masking is essential for tasks like language modeling and text generation, where predictions for each token should not depend on future tokens.\n",
    "- **Preventing Information Leakage:** By masking out future positions, the model maintains the correct temporal order and avoids using information it shouldn't have access to.\n",
    "- **Generalization to Other Domains:** Causal masking is also used in time series modeling and other sequential data tasks where causality must be preserved.\n",
    "\n",
    "## Output\n",
    "\n",
    "- The cell prints the original attention weights, the causal mask, the masked attention weights, and the normalized masked attention weights.\n",
    "- This allows you to observe how causal masking alters the attention distribution and enforces the autoregressive property.\n",
    "\n",
    "This implementation provides a clear example of how causal masking is integrated into self-attention mechanisms, ensuring proper sequence modeling in deep learning architectures."
   ]
  },
  {
   "cell_type": "code",
   "execution_count": 19,
   "id": "e37bc394",
   "metadata": {},
   "outputs": [
    {
     "name": "stdout",
     "output_type": "stream",
     "text": [
      "All attention weights from SelfAttentionv2 module:\n",
      " tensor([[0.1699, 0.1678, 0.1666, 0.1654, 0.1634, 0.1670],\n",
      "        [0.1701, 0.1690, 0.1659, 0.1642, 0.1633, 0.1675],\n",
      "        [0.1663, 0.1617, 0.1698, 0.1717, 0.1663, 0.1642],\n",
      "        [0.1616, 0.1544, 0.1735, 0.1797, 0.1701, 0.1607],\n",
      "        [0.1622, 0.1562, 0.1725, 0.1777, 0.1698, 0.1616],\n",
      "        [0.1684, 0.1659, 0.1675, 0.1674, 0.1647, 0.1661]],\n",
      "       grad_fn=<SoftmaxBackward0>)\n",
      "Causal mask:\n",
      " tensor([[1., 0., 0., 0., 0., 0.],\n",
      "        [1., 1., 0., 0., 0., 0.],\n",
      "        [1., 1., 1., 0., 0., 0.],\n",
      "        [1., 1., 1., 1., 0., 0.],\n",
      "        [1., 1., 1., 1., 1., 0.],\n",
      "        [1., 1., 1., 1., 1., 1.]])\n",
      "Masked attention weights:\n",
      " tensor([[0.1699, 0.0000, 0.0000, 0.0000, 0.0000, 0.0000],\n",
      "        [0.1701, 0.1690, 0.0000, 0.0000, 0.0000, 0.0000],\n",
      "        [0.1663, 0.1617, 0.1698, 0.0000, 0.0000, 0.0000],\n",
      "        [0.1616, 0.1544, 0.1735, 0.1797, 0.0000, 0.0000],\n",
      "        [0.1622, 0.1562, 0.1725, 0.1777, 0.1698, 0.0000],\n",
      "        [0.1684, 0.1659, 0.1675, 0.1674, 0.1647, 0.1661]],\n",
      "       grad_fn=<MulBackward0>)\n",
      "Normalized masked attention weights:\n",
      " tensor([[1.0000, 0.0000, 0.0000, 0.0000, 0.0000, 0.0000],\n",
      "        [0.5016, 0.4984, 0.0000, 0.0000, 0.0000, 0.0000],\n",
      "        [0.3341, 0.3249, 0.3410, 0.0000, 0.0000, 0.0000],\n",
      "        [0.2415, 0.2307, 0.2593, 0.2685, 0.0000, 0.0000],\n",
      "        [0.1935, 0.1863, 0.2057, 0.2120, 0.2025, 0.0000],\n",
      "        [0.1684, 0.1659, 0.1675, 0.1674, 0.1647, 0.1661]],\n",
      "       grad_fn=<DivBackward0>)\n"
     ]
    }
   ],
   "source": [
    "queries = self_attention_v2.weight_query(example_input_embeddings)\n",
    "keys = self_attention_v2.weight_key(example_input_embeddings)\n",
    "\n",
    "attention_scores = queries @ keys.T\n",
    "scaling_factor = keys.shape[-1] ** 0.5\n",
    "attention_weights = torch.softmax(attention_scores / scaling_factor, dim = -1)\n",
    "print(f\"All attention weights from SelfAttentionv2 module:\\n {attention_weights}\")\n",
    "\n",
    "context_length = attention_weights.shape[0]\n",
    "causal_mask = torch.tril(torch.ones(context_length, context_length))\n",
    "\n",
    "print(f\"Causal mask:\\n {causal_mask}\")\n",
    "\n",
    "masked_attention_weights = attention_weights * causal_mask\n",
    "print(f\"Masked attention weights:\\n {masked_attention_weights}\")\n",
    "\n",
    "normalized_masked_attention_weights = masked_attention_weights / (masked_attention_weights.sum(dim = -1, keepdim = True))\n",
    "print(f\"Normalized masked attention weights:\\n {normalized_masked_attention_weights}\")"
   ]
  },
  {
   "cell_type": "markdown",
   "id": "a82846bb",
   "metadata": {},
   "source": [
    "# Alternative Causal Masking with Upper-Triangular Mask and Softmax\n",
    "This cell demonstrates an alternative approach to causal masking in self-attention mechanisms, using an upper-triangular mask and direct masking of attention scores before applying the softmax function. This method is commonly used in Transformer decoders and autoregressive models to prevent each position from attending to future tokens.\n",
    "\n",
    "## Steps and Explanations\n",
    "1. **Compute Queries and Keys**\n",
    "   - The input embeddings are projected into query and key spaces using the trained linear layers from the `SelfAttentionv2` module.\n",
    "   - These projections are used to calculate attention scores, which measure the similarity between each query and key.\n",
    "\n",
    "2. **Calculate Raw Attention Scores**\n",
    "   - The attention scores are computed as the dot product between queries and keys, resulting in a square matrix where each row corresponds to a query and each column to a key.\n",
    "\n",
    "3. **Create the Upper-Triangular Causal Mask**\n",
    "   - An upper-triangular mask is generated using `torch.triu`, with ones above the main diagonal and zeros on and below the diagonal.\n",
    "   - This mask identifies positions in the attention score matrix that correspond to future tokens for each query.\n",
    "\n",
    "4. **Apply the Mask to Attention Scores**\n",
    "   - The attention scores corresponding to future positions are set to negative infinity (`-torch.inf`) using `masked_fill`.\n",
    "   - This ensures that, after applying softmax, the attention weights for future positions become zero.\n",
    "\n",
    "5. **Scale and Normalize Masked Attention Scores**\n",
    "   - The masked attention scores are scaled by the square root of the key dimension to stabilize gradients.\n",
    "   - The softmax function is applied to the scaled, masked scores, producing attention weights that sum to 1 for each query and only allow attention to current and previous positions.\n",
    "\n",
    "## Practical Importance\n",
    "- **Autoregressive Modeling:** This masking technique is essential for tasks like language modeling and sequence generation, where each token should only attend to itself and previous tokens.\n",
    "- **Efficient Implementation:** Masking attention scores before softmax is computationally efficient and ensures strict causality in the attention mechanism.\n",
    "- **Generalization:** This approach is widely used in Transformer decoders and other models that require autoregressive behavior.\n",
    "\n",
    "## Output\n",
    "- The cell prints the masked attention scores and the resulting masked attention weights after softmax.\n",
    "- This allows you to observe how the upper-triangular mask enforces causality and alters the attention distribution.\n",
    "\n",
    "This implementation provides a robust and efficient method for causal masking in self-attention, ensuring proper sequence modeling and preventing information leakage from future tokens."
   ]
  },
  {
   "cell_type": "code",
   "execution_count": 20,
   "id": "716c5cb3",
   "metadata": {},
   "outputs": [
    {
     "name": "stdout",
     "output_type": "stream",
     "text": [
      "Masked attention scores:\n",
      " tensor([[0.1152,   -inf,   -inf,   -inf,   -inf,   -inf],\n",
      "        [0.0792, 0.0699,   -inf,   -inf,   -inf,   -inf],\n",
      "        [0.1842, 0.1447, 0.2133,   -inf,   -inf,   -inf],\n",
      "        [0.2565, 0.1920, 0.3571, 0.4066,   -inf,   -inf],\n",
      "        [0.2107, 0.1570, 0.2971, 0.3396, 0.2750,   -inf],\n",
      "        [0.1188, 0.0975, 0.1117, 0.1106, 0.0875, 0.0997]],\n",
      "       grad_fn=<MaskedFillBackward0>)\n",
      "Masked attention weights:\n",
      " tensor([[1.0000, 0.0000, 0.0000, 0.0000, 0.0000, 0.0000],\n",
      "        [0.5016, 0.4984, 0.0000, 0.0000, 0.0000, 0.0000],\n",
      "        [0.3341, 0.3249, 0.3410, 0.0000, 0.0000, 0.0000],\n",
      "        [0.2415, 0.2307, 0.2593, 0.2685, 0.0000, 0.0000],\n",
      "        [0.1935, 0.1863, 0.2057, 0.2120, 0.2025, 0.0000],\n",
      "        [0.1684, 0.1659, 0.1675, 0.1674, 0.1647, 0.1661]],\n",
      "       grad_fn=<SoftmaxBackward0>)\n"
     ]
    }
   ],
   "source": [
    "queries = self_attention_v2.weight_query(example_input_embeddings)\n",
    "keys = self_attention_v2.weight_key(example_input_embeddings)\n",
    "\n",
    "attention_scores = queries @ keys.T\n",
    "context_length = attention_scores.shape[0]\n",
    "\n",
    "causal_mask = torch.triu(torch.ones(context_length, context_length), diagonal = 1)\n",
    "masked_attention_scores = attention_scores.masked_fill(causal_mask.bool(), -torch.inf)\n",
    "print(f\"Masked attention scores:\\n {masked_attention_scores}\")\n",
    "\n",
    "scaling_factor = keys.shape[-1] ** 0.5\n",
    "masked_attention_weights = torch.softmax(masked_attention_scores / scaling_factor, dim = -1)\n",
    "print(f\"Masked attention weights:\\n {masked_attention_weights}\")\n"
   ]
  },
  {
   "cell_type": "markdown",
   "id": "6c841ea9",
   "metadata": {},
   "source": [
    "# Dropout in Attention Mechanisms: Regularizing Masked Attention Weights\n",
    "This cell demonstrates how to apply dropout to masked attention weights in a self-attention mechanism. Dropout is a regularization technique that helps prevent overfitting by randomly zeroing out elements of a tensor during training. In the context of attention mechanisms, dropout is commonly applied to the attention weights to improve generalization and model robustness.\n",
    "\n",
    "## Steps and Explanations\n",
    "1. **Set the Random Seed**\n",
    "   - The random seed is set for reproducibility, ensuring that the dropout pattern is consistent across runs.\n",
    "\n",
    "2. **Instantiate the Dropout Layer**\n",
    "   - A PyTorch `nn.Dropout` layer is created with a dropout probability of 0.5, meaning half of the attention weights will be randomly set to zero during training.\n",
    "\n",
    "3. **Apply Dropout to Masked Attention Weights**\n",
    "   - The dropout layer is applied to the previously computed masked attention weights, producing `masked_dropped_attention_weights`.\n",
    "   - This operation randomly zeroes out elements in the attention weights matrix, simulating the effect of ignoring certain attention connections during training.\n",
    "\n",
    "4. **Print the Result**\n",
    "   - The resulting attention weights after dropout are printed, allowing you to observe the effect of regularization on the attention distribution.\n",
    "\n",
    "## Practical Importance\n",
    "- **Preventing Overfitting:** Dropout helps the model avoid relying too heavily on specific attention connections, encouraging it to learn more robust and distributed representations.\n",
    "- **Improving Generalization:** By randomly dropping attention weights, the model is forced to consider alternative paths and relationships in the data, which can improve performance on unseen examples.\n",
    "- **Standard Practice:** Dropout is widely used in Transformer architectures and other attention-based models, typically applied to the attention weights or the output of the attention layer.\n",
    "\n",
    "## Output\n",
    "- The cell prints the masked attention weights after dropout, showing which connections have been zeroed out.\n",
    "- This visualization helps illustrate how dropout acts as a regularizer in attention mechanisms.\n",
    "\n",
    "This cell completes the demonstration of regularization in self-attention, highlighting the role of dropout in building robust and generalizable deep learning models."
   ]
  },
  {
   "cell_type": "code",
   "execution_count": 21,
   "id": "e2eb5f15",
   "metadata": {},
   "outputs": [
    {
     "name": "stdout",
     "output_type": "stream",
     "text": [
      "Masked attention weights with dropout:\n",
      " tensor([[2.0000, 0.0000, 0.0000, 0.0000, 0.0000, 0.0000],\n",
      "        [0.0000, 0.0000, 0.0000, 0.0000, 0.0000, 0.0000],\n",
      "        [0.6682, 0.6498, 0.6821, 0.0000, 0.0000, 0.0000],\n",
      "        [0.0000, 0.4614, 0.5186, 0.0000, 0.0000, 0.0000],\n",
      "        [0.0000, 0.3726, 0.0000, 0.4239, 0.0000, 0.0000],\n",
      "        [0.0000, 0.3317, 0.3351, 0.3348, 0.3294, 0.0000]],\n",
      "       grad_fn=<MulBackward0>)\n"
     ]
    }
   ],
   "source": [
    "torch.manual_seed(123)\n",
    "dropout = nn.Dropout(0.5)\n",
    "masked_dropped_attention_weights = dropout(masked_attention_weights)\n",
    "print(f\"Masked attention weights with dropout:\\n {masked_dropped_attention_weights}\")"
   ]
  },
  {
   "cell_type": "markdown",
   "id": "10238398",
   "metadata": {},
   "source": [
    "# Causal Masking in Batched Self-Attention Modules: Detailed Explanation\n",
    "This cell defines a custom PyTorch module, `CausalAttention`, which implements self-attention with causal masking and dropout for batched input sequences. This approach is essential for autoregressive models, such as GPT and Transformer decoders, where each token should only attend to itself and previous tokens, not future ones.\n",
    "\n",
    "## Key Steps and Concepts\n",
    "1. **Module Initialization**\n",
    "   - The module takes `input_dim`, `output_dim`, `dropout`, `context_length`, and an optional `qkv_bias` as arguments.\n",
    "   - Three linear layers are created for projecting input embeddings into queries, keys, and values.\n",
    "   - A dropout layer is initialized for regularization.\n",
    "   - The causal mask is registered as a buffer, using an upper-triangular matrix to identify future positions.\n",
    "\n",
    "2. **Forward Pass**\n",
    "   - The input tensor `x` is expected to have shape `[batch_size, num_tokens, input_dim]`.\n",
    "   - Queries, keys, and values are computed for each token in the batch using the respective linear layers.\n",
    "   - Attention scores are calculated as the dot product between queries and keys, resulting in a `[batch_size, num_tokens, num_tokens]` matrix.\n",
    "\n",
    "3. **Causal Masking**\n",
    "   - The causal mask is sliced to match the current sequence length (`num_tokens`).\n",
    "   - `attention_scores.masked_fill_(self.causal_mask.bool()[:num_tokens, :num_tokens], -torch.inf)` sets attention scores for future positions to negative infinity.\n",
    "   - This ensures that, after softmax, each token can only attend to itself and previous tokens.\n",
    "\n",
    "4. **Scaling and Softmax**\n",
    "   - Attention scores are scaled by the square root of the key dimension to stabilize gradients.\n",
    "   - Softmax is applied along the last dimension, converting scores into attention weights that sum to 1 for each query.\n",
    "\n",
    "5. **Dropout Regularization**\n",
    "   - Dropout is applied to the attention weights, randomly zeroing out some connections during training to prevent overfitting.\n",
    "\n",
    "6. **Context Vector Computation**\n",
    "   - The final context vectors are computed as a weighted sum of the value vectors, using the masked and regularized attention weights.\n",
    "   - The output is a tensor of shape `[batch_size, num_tokens, output_dim]`, suitable for further processing in sequence models.\n",
    "\n",
    "## Practical Importance\n",
    "- **Autoregressive Modeling:** Causal masking is critical for tasks like language modeling and sequence generation, ensuring predictions for each token do not depend on future tokens.\n",
    "- **Efficient Batch Processing:** The module supports batched inputs, making it suitable for training and inference on large datasets.\n",
    "- **Regularization:** Dropout improves generalization by preventing the model from relying too heavily on specific attention connections.\n",
    "\n",
    "## Output\n",
    "- The module returns context vectors for each token in the batch, with causality and regularization enforced.\n",
    "- This implementation is a robust building block for modern Transformer-based architectures.\n",
    "\n",
    "This cell demonstrates how to combine causal masking and dropout in a modular, batched self-attention layer, providing both theoretical rigor and practical utility for deep learning models."
   ]
  },
  {
   "cell_type": "code",
   "execution_count": 22,
   "id": "76c5fde1",
   "metadata": {},
   "outputs": [],
   "source": [
    "class CausalAttention(nn.Module):\n",
    "    def __init__(self, input_dim, output_dim, dropout, context_length, qkv_bias = False):\n",
    "        super().__init__()\n",
    "        self.query_weight = nn.Linear(input_dim, output_dim, qkv_bias)\n",
    "        self.key_weight = nn.Linear(input_dim, output_dim, qkv_bias)\n",
    "        self.value_weight = nn.Linear(input_dim, output_dim, qkv_bias)\n",
    "        self.dropout = nn.Dropout(dropout)\n",
    "        self.register_buffer(\"causal_mask\", torch.triu(torch.ones(context_length, context_length), diagonal = 1))\n",
    "\n",
    "    def forward(self, x):\n",
    "        num_tokens = x.shape[1]\n",
    "        queries = self.query_weight(x)\n",
    "        keys = self.key_weight(x)\n",
    "        values = self.value_weight(x)\n",
    "        attention_scores = queries @ keys.transpose(1,2)\n",
    "        attention_scores.masked_fill_(self.causal_mask.bool()[:num_tokens, :num_tokens], -torch.inf)\n",
    "        scaling_factor = keys.shape[-1] ** 0.5\n",
    "        attention_weights = torch.softmax(attention_scores / scaling_factor, dim = -1)\n",
    "        attention_weights = self.dropout(attention_weights)\n",
    "        context_vectors = attention_weights @ values\n",
    "        return context_vectors\n",
    "\n",
    "\n"
   ]
  },
  {
   "cell_type": "markdown",
   "id": "7f3cb359",
   "metadata": {},
   "source": [
    "# Running the CausalAttention Module: Batched Context Vector Computation\n",
    "This cell demonstrates how to use the custom `CausalAttention` module to compute context vectors for a batch of input sequences, with causal masking and dropout applied. It shows the practical application of the module in a typical deep learning workflow.\n",
    "\n",
    "## Steps and Explanations\n",
    "1. **Batch Creation**\n",
    "   - Two copies of the example input embeddings are stacked to form a batch, resulting in a tensor of shape `[batch_size, num_tokens, input_dim]`.\n",
    "   - This simulates processing multiple sequences in parallel, as is common during training and inference.\n",
    "\n",
    "2. **Context Length and Dropout**\n",
    "   - The context length is set to the number of tokens in each sequence.\n",
    "   - Dropout probability is specified (e.g., 0.2) to regularize the attention weights.\n",
    "\n",
    "3. **Module Instantiation**\n",
    "   - The `CausalAttention` module is instantiated with the input dimension, output dimension, dropout rate, and context length.\n",
    "   - This sets up the module with causal masking and dropout for batched inputs.\n",
    "\n",
    "4. **Forward Pass**\n",
    "   - The batched input embeddings are passed through the `CausalAttention` module.\n",
    "   - The module computes queries, keys, and values, applies causal masking to the attention scores, scales and normalizes them, applies dropout, and computes the context vectors for each token in each sequence.\n",
    "\n",
    "5. **Output**\n",
    "   - The resulting context vectors have shape `[batch_size, num_tokens, output_dim]`, representing the aggregated information for each token in each sequence, with causality and regularization enforced.\n",
    "   - The output is printed for inspection.\n",
    "\n",
    "## Practical Importance\n",
    "- **Batch Processing:** Efficiently processes multiple sequences in parallel, which is essential for scalable training and inference.\n",
    "- **Causal Masking:** Ensures each token only attends to itself and previous tokens, preserving autoregressive properties.\n",
    "- **Dropout Regularization:** Improves generalization by randomly dropping attention connections during training.\n",
    "\n",
    "## Summary\n",
    "This cell provides a complete example of how to use a modular, batched self-attention layer with causal masking and dropout in PyTorch. It highlights best practices for sequence modeling and demonstrates how to integrate advanced attention mechanisms into deep learning pipelines."
   ]
  },
  {
   "cell_type": "code",
   "execution_count": 23,
   "id": "cb84e19b",
   "metadata": {},
   "outputs": [
    {
     "name": "stdout",
     "output_type": "stream",
     "text": [
      "Context vectors from CausalAttention module:\n",
      " tensor([[[-0.6411, -0.2989],\n",
      "         [-0.5690, -0.2869],\n",
      "         [-0.6798, -0.3041],\n",
      "         [-0.7194, -0.1945],\n",
      "         [-0.7039, -0.1326],\n",
      "         [-0.4672, -0.1319]],\n",
      "\n",
      "        [[ 0.0000,  0.0000],\n",
      "         [-0.5690, -0.2869],\n",
      "         [-0.5185, -0.2148],\n",
      "         [-0.7194, -0.1945],\n",
      "         [-0.7039, -0.1326],\n",
      "         [-0.5828, -0.1157]]], grad_fn=<UnsafeViewBackward0>)\n"
     ]
    }
   ],
   "source": [
    "torch.manual_seed(123)\n",
    "batched_input_embeddings = torch.stack([example_input_embeddings, example_input_embeddings], dim = 0)\n",
    "context_length = batched_input_embeddings.shape[1]\n",
    "dropout = 0.2\n",
    "causal_attention = CausalAttention(input_dim, output_dim, dropout, context_length)\n",
    "context_vectors_causal = causal_attention(batched_input_embeddings)\n",
    "print(f\"Context vectors from CausalAttention module:\\n {context_vectors_causal}\")"
   ]
  },
  {
   "cell_type": "markdown",
   "id": "ee5d0128",
   "metadata": {},
   "source": [
    "# Multi-Head Causal Attention: Concept and Implementation\n",
    "This cell introduces the `SimpleMultiHeadAttention` module, which extends the causal self-attention mechanism to support multiple attention heads. Multi-head attention is a core component of Transformer architectures, enabling the model to capture diverse relationships and patterns in the input sequence.\n",
    "\n",
    "## Key Concepts\n",
    "1. **Multi-Head Attention**\n",
    "   - Instead of a single attention mechanism, multiple independent attention heads are used.\n",
    "   - Each head learns to focus on different aspects or relationships within the input sequence.\n",
    "   - The outputs of all heads are concatenated to form a richer, more expressive representation.\n",
    "\n",
    "2. **Module Structure**\n",
    "   - The module takes `input_dim`, `output_dim`, `dropout`, `context_length`, `num_heads`, and an optional `qkv_bias` as arguments.\n",
    "   - A list of `CausalAttention` modules is created, one for each head, using `nn.ModuleList`.\n",
    "   - Each head operates independently on the same input.\n",
    "\n",
    "3. **Forward Pass**\n",
    "   - The input tensor `x` is passed through each attention head, producing a list of context vector outputs.\n",
    "   - The outputs from all heads are concatenated along the last dimension, resulting in a tensor of shape `[batch_size, num_tokens, num_heads * output_dim]`.\n",
    "   - This concatenated output can be further processed by subsequent layers in the model.\n",
    "\n",
    "## Practical Importance\n",
    "- **Diversity of Attention:** Multi-head attention allows the model to attend to information from different representation subspaces, improving its ability to capture complex dependencies.\n",
    "- **Expressiveness:** Concatenating multiple attention outputs provides a richer feature set for downstream tasks.\n",
    "- **Scalability:** The modular design makes it easy to adjust the number of heads and output dimensions for different model sizes and applications.\n",
    "\n",
    "## Summary\n",
    "This cell demonstrates how to implement multi-head causal attention by combining several independent attention modules. It highlights the advantages of multi-head architectures in deep learning and provides a foundation for building advanced Transformer models."
   ]
  },
  {
   "cell_type": "code",
   "execution_count": 24,
   "id": "8e755cb1",
   "metadata": {},
   "outputs": [],
   "source": [
    "class SimpleMultiHeadAttention(nn.Module):\n",
    "    def __init__(self, input_dim, output_dim, dropout, context_length, num_heads, qkv_bias = False):\n",
    "        super().__init__()\n",
    "        self.heads = nn.ModuleList(\n",
    "            [CausalAttention(input_dim, output_dim, dropout, context_length, qkv_bias)\n",
    "             for _ in range(num_heads)]\n",
    "        )\n",
    "    def forward(self, x):\n",
    "        head_outputs = [head(x) for head in self.heads]\n",
    "        concat_output = torch.cat(head_outputs, dim = -1)\n",
    "        return concat_output\n",
    "\n",
    "    "
   ]
  },
  {
   "cell_type": "markdown",
   "id": "8ac32607",
   "metadata": {},
   "source": [
    "# Using Multi-Head Causal Attention: Parallel Sequence Representation\n",
    "This cell demonstrates how to instantiate and apply the `SimpleMultiHeadAttention` module to a batch of input sequences. It shows how multi-head causal attention can be used to generate rich, parallel representations for each token in a sequence.\n",
    "\n",
    "## Steps and Explanations\n",
    "1. **Batch Preparation**\n",
    "   - The input embeddings are stacked to create a batch, simulating multiple sequences processed in parallel.\n",
    "   - This is typical in training and inference for deep learning models.\n",
    "\n",
    "2. **Module Instantiation**\n",
    "   - The `SimpleMultiHeadAttention` module is created with specified input and output dimensions, dropout rate, context length, and number of heads.\n",
    "   - Each head is an independent causal attention module, allowing the model to learn diverse attention patterns.\n",
    "\n",
    "3. **Forward Pass**\n",
    "   - The batched input embeddings are passed through the multi-head attention module.\n",
    "   - Each head computes its own context vectors, and the outputs are concatenated along the last dimension.\n",
    "   - The result is a tensor of shape `[batch_size, num_tokens, num_heads * output_dim]`, providing a rich representation for each token.\n",
    "\n",
    "4. **Output**\n",
    "   - The context vectors from all heads are printed, showing how multi-head attention aggregates information from different perspectives.\n",
    "\n",
    "## Practical Importance\n",
    "- **Parallel Attention:** Multiple heads allow the model to focus on different relationships and features in the sequence simultaneously.\n",
    "- **Expressive Representations:** Concatenating outputs from several heads yields a more informative feature set for downstream tasks.\n",
    "- **Scalability:** The approach is efficient and scalable, suitable for large models and datasets.\n",
    "\n",
    "## Summary\n",
    "This cell provides a practical example of using multi-head causal attention to process batched input sequences. It highlights the benefits of parallel attention mechanisms and demonstrates how to integrate them into modern deep learning workflows."
   ]
  },
  {
   "cell_type": "code",
   "execution_count": 25,
   "id": "8abeeb7d",
   "metadata": {},
   "outputs": [
    {
     "name": "stdout",
     "output_type": "stream",
     "text": [
      "Context vectors from SimpleMultiHeadAttention module:\n",
      " tensor([[[-0.6411, -0.2989,  0.5830,  0.5474,  0.6471,  0.3096],\n",
      "         [-0.5690, -0.2869,  0.2212,  0.2294,  0.3217,  0.1539],\n",
      "         [-0.5185, -0.2148,  0.6319,  0.5352,  0.6957,  0.2858],\n",
      "         [-0.3459, -0.1508,  0.6740,  0.4963,  0.4929,  0.2423],\n",
      "         [-0.4001, -0.1784,  0.4313,  0.2915,  0.6202,  0.2783],\n",
      "         [-0.3938, -0.0890,  0.5032,  0.3488,  0.5450,  0.2628]],\n",
      "\n",
      "        [[-0.6411, -0.2989,  0.5830,  0.5474,  0.6471,  0.3096],\n",
      "         [-0.5690, -0.2869,  0.2212,  0.2294,  0.3217,  0.1539],\n",
      "         [-0.6798, -0.3041,  0.6319,  0.5352,  0.6957,  0.2858],\n",
      "         [-0.7194, -0.1945,  0.6740,  0.4963,  0.5811,  0.2489],\n",
      "         [-0.7039, -0.1326,  0.3620,  0.2731,  0.4472,  0.1912],\n",
      "         [-0.4969, -0.1330,  0.6556,  0.4547,  0.6202,  0.2750]]],\n",
      "       grad_fn=<CatBackward0>)\n",
      "Shape: torch.Size([2, 6, 6])\n"
     ]
    }
   ],
   "source": [
    "torch.manual_seed(123)\n",
    "num_heads = 3\n",
    "simple_multi_head_attention = SimpleMultiHeadAttention(input_dim, output_dim, dropout, context_length, num_heads)\n",
    "context_vectors_simple_multi_head = simple_multi_head_attention(batched_input_embeddings)\n",
    "print(f\"Context vectors from SimpleMultiHeadAttention module:\\n {context_vectors_simple_multi_head}\")\n",
    "print(f\"Shape: {context_vectors_simple_multi_head.shape}\")"
   ]
  },
  {
   "cell_type": "markdown",
   "id": "eb225482",
   "metadata": {},
   "source": [
    "# Multi-Head Attention Module: Efficient and Flexible Transformer Attention\n",
    "\n",
    "This cell defines a robust and efficient `MultiHeadAttention` PyTorch module, implementing the multi-head causal self-attention mechanism as used in Transformer architectures. The module supports batching, dropout, causal masking, and output projection, making it suitable for advanced sequence modeling tasks.\n",
    "\n",
    "## Key Features and Steps\n",
    "\n",
    "1. **Multi-Head Attention Structure**\n",
    "    - The input is projected into queries, keys, and values using separate linear layers.\n",
    "    - The projections are reshaped and transposed to create multiple attention heads, allowing the model to learn diverse relationships in parallel.\n",
    "    - Each head operates independently on a subspace of the input features.\n",
    "\n",
    "2. **Causal Masking**\n",
    "    - A causal mask is applied to the attention scores to prevent each token from attending to future tokens, enforcing autoregressive behavior.\n",
    "    - This is essential for tasks like language modeling and sequence generation.\n",
    "\n",
    "3. **Attention Score Calculation**\n",
    "    - Attention scores are computed as the dot product between queries and keys for each head.\n",
    "    - Scores are scaled by the square root of the head dimension to stabilize gradients.\n",
    "\n",
    "4. **Softmax and Dropout**\n",
    "    - Softmax is applied to the scaled attention scores to obtain attention weights, which sum to 1 for each query.\n",
    "    - Dropout is applied to the attention weights for regularization, helping prevent overfitting.\n",
    "\n",
    "5. **Context Vector Computation**\n",
    "    - The attention weights are used to compute weighted sums of the value vectors for each head.\n",
    "    - The outputs from all heads are concatenated and projected back to the original output dimension using a final linear layer.\n",
    "\n",
    "6. **Output**\n",
    "    - The module returns context vectors for each token in the batch, with shape `[batch_size, num_tokens, output_dim]`.\n",
    "    - These vectors aggregate information from the entire sequence, with causality and regularization enforced.\n",
    "\n",
    "## Practical Importance\n",
    "\n",
    "- **Expressiveness:** Multi-head attention enables the model to capture complex dependencies and relationships in the input sequence.\n",
    "- **Scalability:** The module efficiently processes batched inputs and supports flexible configuration of head and output dimensions.\n",
    "- **Autoregressive Modeling:** Causal masking ensures proper sequence modeling for tasks like text generation and time series prediction.\n",
    "- **Regularization:** Dropout improves generalization by randomly dropping attention connections during training.\n",
    "\n",
    "## Summary\n",
    "\n",
    "This implementation provides a comprehensive and modular approach to multi-head causal self-attention, suitable for integration into modern Transformer-based models. It demonstrates best practices for efficient, flexible, and regularized attention mechanisms in deep learning."
   ]
  },
  {
   "cell_type": "code",
   "execution_count": 28,
   "id": "7b9bbe85",
   "metadata": {},
   "outputs": [],
   "source": [
    "class MultiHeadAttention(nn.Module):\n",
    "    def __init__(self, input_dim, output_dim, dropout, context_length, num_heads, qkv_bias = False):\n",
    "        super().__init__()\n",
    "        assert output_dim % num_heads == 0, \"Output dimension must be divisible by number of heads\"\n",
    "        self.output_dim = output_dim\n",
    "        self.num_heads = num_heads\n",
    "        self.head_dim = output_dim // num_heads\n",
    "        self.weight_query = nn.Linear(input_dim, output_dim, qkv_bias)\n",
    "        self.weight_key = nn.Linear(input_dim, output_dim, qkv_bias)\n",
    "        self.weight_value = nn.Linear(input_dim, output_dim, qkv_bias)\n",
    "        self.dropout = nn.Dropout(dropout)\n",
    "        self.register_buffer(\"causal_mask\", torch.triu(torch.ones(context_length, context_length), diagonal = 1))\n",
    "        self.output_projection = nn.Linear(output_dim, output_dim)\n",
    "    \n",
    "    def forward(self, x):\n",
    "        batch_size, num_tokens, _ = x.shape\n",
    "        queries = self.weight_query(x).view(batch_size, num_tokens, self.num_heads, self.head_dim).transpose(1,2)\n",
    "        keys = self.weight_key(x).view(batch_size, num_tokens, self.num_heads, self.head_dim).transpose(1,2)\n",
    "        values = self.weight_value(x).view(batch_size, num_tokens, self.num_heads, self.head_dim).transpose(1,2)\n",
    "        attention_scores = queries @ keys.transpose(2,3)\n",
    "        attention_scores.masked_fill_(self.causal_mask.bool()[:num_tokens, :num_tokens], -torch.inf)\n",
    "        attention_weights = torch.softmax(attention_scores / keys.shape[-1]**0.5, dim = -1)\n",
    "        attention_weights = self.dropout(attention_weights)\n",
    "        context_vectors = self.output_projection((attention_weights @ values).transpose(1,2).contiguous().view(batch_size, num_tokens, self.output_dim))\n",
    "        return context_vectors"
   ]
  },
  {
   "cell_type": "markdown",
   "id": "a0dee9bf",
   "metadata": {},
   "source": [
    "# Multi-Head Attention: Batched Context Vector Computation and Output Analysis\n",
    "\n",
    "This cell demonstrates how to use the `MultiHeadAttention` module to compute context vectors for a batch of input sequences using multi-head causal self-attention. Multi-head attention is a key component of Transformer architectures, allowing the model to capture diverse relationships in the input data by attending to different representation subspaces in parallel.\n",
    "\n",
    "## Steps and Explanations\n",
    "\n",
    "1. **Random Seed Initialization**\n",
    "    - The random seed is set for reproducibility, ensuring that the initialization of weights and dropout patterns is consistent across runs.\n",
    "\n",
    "2. **Parameter Setup**\n",
    "    - `input_dim`: The dimensionality of each input embedding (here, 3).\n",
    "    - `output_dim`: The total output dimension after concatenating all attention heads (here, 6).\n",
    "    - `dropout`: The dropout probability (here, 0.2), used to regularize the attention weights.\n",
    "    - `context_length`: The number of tokens in each input sequence (here, 6).\n",
    "    - `num_heads`: The number of parallel attention heads (here, 3).\n",
    "\n",
    "3. **Module Instantiation**\n",
    "    - The `MultiHeadAttention` module is instantiated with the specified parameters.\n",
    "    - Internally, the module creates separate linear layers for query, key, and value projections, splits the output dimension across multiple heads, applies causal masking to enforce autoregressive behavior, and includes a final output projection layer.\n",
    "\n",
    "4. **Forward Pass**\n",
    "    - The batched input embeddings (`batched_input_embeddings`) are passed through the multi-head attention module.\n",
    "    - For each sequence in the batch, the module computes queries, keys, and values for each head, applies causal masking to prevent attention to future tokens, calculates scaled dot-product attention scores, normalizes them with softmax, applies dropout, and computes context vectors by aggregating the value vectors.\n",
    "    - The outputs from all heads are concatenated and projected to the final output dimension.\n",
    "\n",
    "5. **Output**\n",
    "    - The resulting `context_vectors` tensor has shape `[batch_size, context_length, output_dim]`, representing the aggregated information for each token in each sequence, with contributions from all attention heads.\n",
    "    - The output is printed for inspection, allowing you to analyze how multi-head attention distributes focus across the input sequence.\n",
    "\n",
    "## Practical Importance\n",
    "\n",
    "- **Expressive Representations:** Multi-head attention enables the model to learn and represent complex dependencies in the input data by attending to different aspects in parallel.\n",
    "- **Autoregressive Modeling:** Causal masking ensures that each token only attends to itself and previous tokens, which is essential for tasks like language modeling and sequence generation.\n",
    "- **Regularization:** Dropout helps prevent overfitting by randomly dropping attention connections during training.\n",
    "- **Scalability:** The module efficiently processes batched inputs and supports flexible configuration of head and output dimensions.\n",
    "\n",
    "## Summary\n",
    "\n",
    "This cell provides a complete example of applying multi-head causal attention to batched input sequences, highlighting the advantages of parallel attention mechanisms and demonstrating how to integrate them into modern deep learning workflows."
   ]
  },
  {
   "cell_type": "code",
   "execution_count": 31,
   "id": "02e00869",
   "metadata": {},
   "outputs": [
    {
     "name": "stdout",
     "output_type": "stream",
     "text": [
      "Context vectors from MultiHeadAttention module:\n",
      " tensor([[[-0.5541,  0.0125,  0.2086,  0.3608, -0.0163,  0.1243],\n",
      "         [-0.5025,  0.0758,  0.0628,  0.3633, -0.0425,  0.0346],\n",
      "         [-0.4246,  0.0624,  0.3454,  0.4126, -0.0856,  0.2563],\n",
      "         [-0.2565,  0.0844,  0.2199,  0.6000, -0.1633,  0.2833],\n",
      "         [-0.3168, -0.0127,  0.4560,  0.5945, -0.1321,  0.4386],\n",
      "         [-0.3281,  0.0271,  0.2888,  0.5457, -0.1322,  0.3014]],\n",
      "\n",
      "        [[-0.4187, -0.1174,  0.2735,  0.6119, -0.0837,  0.2908],\n",
      "         [-0.4279,  0.0210,  0.0660,  0.4885, -0.0798,  0.0995],\n",
      "         [-0.4039, -0.0576,  0.3259,  0.5950, -0.0789,  0.3235],\n",
      "         [-0.3660, -0.0625,  0.3912,  0.6157, -0.0995,  0.3895],\n",
      "         [-0.3168, -0.0127,  0.4560,  0.5945, -0.1321,  0.4386],\n",
      "         [-0.3541,  0.0049,  0.4174,  0.5522, -0.1166,  0.3840]]],\n",
      "       grad_fn=<ViewBackward0>)\n"
     ]
    }
   ],
   "source": [
    "torch.manual_seed(123)\n",
    "input_dim = batched_input_embeddings.shape[-1]\n",
    "output_dim = 6\n",
    "dropout = 0.2\n",
    "context_length = batched_input_embeddings.shape[1]\n",
    "num_heads = 3\n",
    "multi_head_attention = MultiHeadAttention(input_dim, output_dim, dropout, context_length, num_heads)\n",
    "context_vectors = multi_head_attention(batched_input_embeddings)\n",
    "print(f\"Context vectors from MultiHeadAttention module:\\n {context_vectors}\")"
   ]
  }
 ],
 "metadata": {
  "kernelspec": {
   "display_name": ".venv",
   "language": "python",
   "name": "python3"
  },
  "language_info": {
   "codemirror_mode": {
    "name": "ipython",
    "version": 3
   },
   "file_extension": ".py",
   "mimetype": "text/x-python",
   "name": "python",
   "nbconvert_exporter": "python",
   "pygments_lexer": "ipython3",
   "version": "3.13.3"
  }
 },
 "nbformat": 4,
 "nbformat_minor": 5
}
